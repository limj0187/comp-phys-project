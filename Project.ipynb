{
 "cells": [
  {
   "cell_type": "markdown",
   "metadata": {},
   "source": [
    "## Simulation of Ising model"
   ]
  },
  {
   "cell_type": "markdown",
   "metadata": {},
   "source": [
    "(3 marks) outline the stages of your code development;  \n",
    "(4 marks) sketch the dependencies between different components of your code (i.e. no spaghetti code!);  \n",
    "(4 marks) a Gantt chart showing completed and ongoing code development;  \n",
    "(4 marks) list completed codes in the Appendix; and  \n",
    "(5 marks) report preliminary results."
   ]
  },
  {
   "cell_type": "markdown",
   "metadata": {},
   "source": [
    "## Outline the stages of your code development\n",
    "\n",
    "* Create a 1d model as a test\n",
    "    * Create a 1d model\n",
    "    * Create a 1d Metropolis algorithm\n",
    "    * Create a way to visualise the 1d model\n",
    "    * Create a way to animate the 1d model\n",
    "* Create a 2d model\n",
    "    * Create a 2d model\n",
    "    * Create a 2d Metropolis algorithm\n",
    "    * Create a way to visualise the 2d model\n",
    "    * Create a way to animate the 2d model\n",
    "    * Create a graph of energy, magnetization and heat capacity against temperature for certain sizes of the system. \n",
    "    * Run the simulation multiple times and take the average of the results to reduce statistical fluctuations.\n",
    "    * Determine the critical temperature using the simulation\n",
    "* Create a 3d model\n",
    "    * Create a 3d Metropolis algorithm\n",
    "    * Create a way to visualise the 3d model\n",
    "    * Create a way to animate the 3d model\n",
    "    * Create a graph of energy, magnetization and heat capacity against temperature for certain sizes of the system. \n",
    "    * Run the simulation multiple times and take the average of the results to reduce statistical fluctuations.\n",
    "    * Determine the critical temperature using the simulation"
   ]
  },
  {
   "cell_type": "markdown",
   "metadata": {},
   "source": [
    "## Sketch the dependencies between different components of your code (i.e. no spaghetti code!);  \n",
    "\n",
    "![Some sort of... Superweapon!](https://raw.githubusercontent.com/limj0187/comp-phys-project/master/dependencies.png)"
   ]
  },
  {
   "cell_type": "markdown",
   "metadata": {},
   "source": [
    "![Sleepytime](https://raw.githubusercontent.com/limj0187/comp-phys-project/master/Gantt.png)"
   ]
  },
  {
   "cell_type": "markdown",
   "metadata": {},
   "source": [
    "## Introduction\n",
    "\n",
    "All materials are made up of atoms. These atoms each have individual magnetic dipoles pointing in some direction. Regions of atoms that have magnetic dipoles pointing in the same direction will have an overall magenetic dipole pointing in that same direction. And when all these regions in the material have their magnetic dipoles aligned, the material is said to be magentised. \n",
    "\n",
    "However, as the temperature is raised, the magnetic dipoles of the system become misaligned and the magnetization of the system decreases. At some critical temperature, called the _Curie temperature_ The system goes through a _phase transition_ in which it loses its magnetisation. \n",
    "\n",
    "The Ising model is a model of a statistical mechanics system which can exhibit phase transition. We will be exploring how Ising model systems can be simulated by applying the Metropolis algorithm. "
   ]
  },
  {
   "cell_type": "markdown",
   "metadata": {},
   "source": [
    "## What is the Ising model?\n",
    "\n",
    "Consider a 2 dimensional lattice of spins, $S_i$ in which the spins can either point up, $S_i = +1$, or point down, $S_i = -1$. Each spin interacts with its nearest neighbour through the following potential,\n",
    "\n",
    "\\begin{equation}\n",
    "V_i = -Js_is_{i+1}\n",
    "\\end{equation}\n",
    "\n",
    "Where $V_i$ is the potential and $J$ is the exchange energy. $J$ is a measure of the strength of the interaction. We have also set the external magnetic field to $0$ for simplicity.\n",
    "\n",
    "The overall energy of this system is the sum of the potential $V$ over all the spins of the system. This can be seen through the following,\n",
    "\n",
    "\\begin{equation}\n",
    "E = -J \\sum_{i=1}^{N-1}s_is_{i+1}\n",
    "\\end{equation}\n",
    "\n",
    "To calculate the magentisation, the average value of the spins can be taken. \n",
    "\n",
    "\\begin{equation}\n",
    "M = \\frac{1}{N} \\sum_{i = 1}^{N} s_i\n",
    "\\end{equation}\n",
    "\n",
    "According to the Boltzmann distribution, the probabilty of observing any given configuration at equilibrium is given by,\n",
    "\n",
    "\\begin{equation}\n",
    "P(\\text{state}) = \\exp(-\\frac{E}{k_b T}) = \\exp(-{E}{\\beta})\n",
    "\\end{equation}\n",
    "\n",
    "Where $k_b$ is the Boltzmann constant and $T$ is the temperature and $\\beta = \\frac{1}{k_b T}$. \n",
    "\n",
    "If $J>0$ and the temperature is low enough, the ground state will be a ferromagnet and all the spins will be aligned.  \n",
    "But if $J<0$ and the temperature is low enough, the ground state will be an antiferromagnet in which all the spins are alternating.\n",
    "\n",
    "Another way to analyse the system is to look at the internal energy and heat capacity of the system. "
   ]
  },
  {
   "cell_type": "markdown",
   "metadata": {},
   "source": [
    "## Metropolis algorithm\n",
    "\n",
    "The steps to the metropolis algorithm applied to the Ising model is as follows,\n",
    "\n",
    "1. We first generate a trial state by choosing one spin at random and flipping it.\n",
    "2. Compute the energy of the initial state, $E_{initial}$, and the trial state, $E_{trial}$. We can also calculate their difference, $\\Delta E = E_{trial} - E_{initial}$\n",
    "3. Now we accept or reject the trial state according to the following rules:\n",
    "    1. If $\\Delta E \\leq 0$, the trial state is accepted. \n",
    "    2. If $\\Delta E > 0$, the trial state is accepted with a probability of $e^{\\frac{\\Delta E}{k_b T}}$.\n",
    "\n",
    "We note that the Boltzmann distribution allows a state to be in a higher energy state than the ground state, but it is less likely for that to happen. The Metropolis algorithm randomly changes the individual spins such that on average, the probability of a configuration occuring follows the Boltzmann distribution. So we are able to use the Metropolis algorithm to reproduce the Boltzmann distribution."
   ]
  },
  {
   "cell_type": "code",
   "execution_count": null,
   "metadata": {},
   "outputs": [],
   "source": [
    "import numpy as np\n",
    "import matplotlib.colors as colors\n",
    "import matplotlib.pyplot as plt\n",
    "import matplotlib.animation as animation\n",
    "%matplotlib notebook"
   ]
  },
  {
   "cell_type": "markdown",
   "metadata": {},
   "source": [
    "First, we will create a simulation of the 1D ising model as a test,\n",
    "\n",
    "There are N magnetic dipoles fixed in place in a line."
   ]
  },
  {
   "cell_type": "code",
   "execution_count": null,
   "metadata": {},
   "outputs": [],
   "source": [
    "#Inistialisation of variables\n",
    "N = 10\n",
    "kbt = 1\n",
    "J = 1\n",
    "x1d = np.subtract(np.multiply(np.random.randint((2), size=(N)),2),1)"
   ]
  },
  {
   "cell_type": "code",
   "execution_count": null,
   "metadata": {},
   "outputs": [],
   "source": [
    "def E_1d(x1d,J):\n",
    "    N = x1d.shape[0]\n",
    "    result = 0\n",
    "    for i in range(N-1):\n",
    "            result += -J*x1d[i]*x1d[i+1]\n",
    "#             print(i,i+1)\n",
    "    return result\n",
    "\n",
    "def Mag_1d(x1d):\n",
    "    return np.mean(x1d)\n",
    "\n",
    "# print(E_1d(x1d,J))\n",
    "# print(Mag_1d(x1d))"
   ]
  },
  {
   "cell_type": "code",
   "execution_count": null,
   "metadata": {},
   "outputs": [],
   "source": [
    "def metropolis1d(x1d,kbt=1,J=1):\n",
    "    i = np.random.randint(len(x1d))\n",
    "    initial = 0 \n",
    "    trial = 0\n",
    "\n",
    "    #initial energy calculated\n",
    "    if i != len(x1d)-1:\n",
    "        initial += -J*x1d[i]*x1d[i+1]\n",
    "    if i != 0:\n",
    "        initial += -J*x1d[i]*x1d[i-1]\n",
    "\n",
    "    #flip the spins\n",
    "    if x1d[i] == 1:\n",
    "        x1d[i] = -1\n",
    "    else:\n",
    "        x1d[i] = 1\n",
    "\n",
    "    #trial energy calculated\n",
    "    if i != len(x1d)-1:\n",
    "        initial += -J*x1d[i]*x1d[i+1]\n",
    "    if i != 0:\n",
    "        initial += -J*x1d[i]*x1d[i-1]\n",
    "\n",
    "    #calculate energy difference\n",
    "    delta = trial - initial\n",
    "\n",
    "    #accept or reject the trial configuration\n",
    "    #if delta is less than or equals to zero, accept trial\n",
    "    if delta <= 0: \n",
    "        return x1d\n",
    "    else:\n",
    "        #generate a random number between 0 and 1. \n",
    "        prob = np.exp(-(delta/kbt))\n",
    "        #if number is less than exp(delta/kbt), accept trial.\n",
    "        if prob >= np.random.random():\n",
    "            return x1d\n",
    "        else:\n",
    "            #else flip back and trial is rejected\n",
    "            if x1d[i] == 1:\n",
    "                x1d[i] = -1\n",
    "            else:\n",
    "                x1d[i] = 1\n",
    "            return x1d"
   ]
  },
  {
   "cell_type": "markdown",
   "metadata": {},
   "source": [
    "Visualise the model"
   ]
  },
  {
   "cell_type": "code",
   "execution_count": null,
   "metadata": {},
   "outputs": [],
   "source": [
    "fig, ax = plt.subplots()\n",
    "x2 = np.vstack((x1d,x1d))\n",
    "cmap = colors.ListedColormap(['black','white'])\n",
    "bounds=[-1,0,1]\n",
    "norm = colors.BoundaryNorm(bounds, cmap.N)\n",
    "\n",
    "img = plt.imshow(x2,interpolation='nearest',\n",
    "                    cmap = cmap,norm=norm)\n",
    "plt.colorbar(img,cmap=cmap,\n",
    "                norm=norm,boundaries=bounds,ticks=[-1,1])\n",
    "\n",
    "plt.show()"
   ]
  },
  {
   "cell_type": "code",
   "execution_count": null,
   "metadata": {
    "scrolled": false
   },
   "outputs": [],
   "source": [
    "# fig, ax = plt.subplots()\n",
    "\n",
    "fig = plt.figure()\n",
    "ax = plt.axes()\n",
    "line, = ax.plot(range(len(x1d)),x1d,'ro')\n",
    "time_text = ax.text(.0,1.1, \"Frames passed = {}\".format(0), transform=ax.transAxes)\n",
    "\n",
    "# initialization function: plot the background of each frame\n",
    "def init():\n",
    "    line.set_data([], [])\n",
    "    return line,\n",
    "\n",
    "# animation function.  This is called sequentially\n",
    "def animate(i):\n",
    "    metropolis1d(x1d,kbt,J)\n",
    "    x = np.arange(len(x1d))\n",
    "    y = x1d\n",
    "    line.set_data(x, y)\n",
    "    time_text.set_text(\"Frames passed = {}\".format(i))\n",
    "    return line,\n",
    "\n",
    "ani = animation.FuncAnimation(\n",
    "    fig, animate, init_func=init, frames = 100, interval=200, blit=True, save_count=50, repeat = False)\n",
    "\n",
    "plt.show()\n"
   ]
  },
  {
   "cell_type": "markdown",
   "metadata": {},
   "source": [
    "Next is to move on to 2D ising model.\n",
    "1. Create another set of $N\\times N$ magnetic dipoles\n",
    "2. Create another way to calculate their energy\n",
    "3. Create another metropolis algorithm"
   ]
  },
  {
   "cell_type": "code",
   "execution_count": null,
   "metadata": {},
   "outputs": [],
   "source": [
    "#initialisation\n",
    "N = 20\n",
    "kbt = 1.0\n",
    "J = 1\n",
    "x2d = np.subtract(np.multiply(np.random.randint((2), size=((N,N))),2),1)\n",
    "# x=np.arange(9)\n",
    "# x = np.reshape(x,(3,3))\n",
    "# print(\"x2d is \\n\",x2d)\n",
    "print(10*N*N)"
   ]
  },
  {
   "cell_type": "code",
   "execution_count": null,
   "metadata": {},
   "outputs": [],
   "source": [
    "#calculate the energy for this configuration of x\n",
    "def E_2d(x2d,J):\n",
    "    shape = np.shape(x2d)\n",
    "    result = 0\n",
    "    for i in range(shape[0]):\n",
    "        for j in range(shape[1]-1):\n",
    "            result += -J*x2d[i,j]*x2d[i,j+1]\n",
    "    for i in range(shape[0]-1):\n",
    "        for j in range(shape[1]):\n",
    "            result += -J*x2d[i,j]*x2d[i+1,j]\n",
    "    return result\n",
    "\n",
    "def Mag_2d(x2d):\n",
    "    return np.mean(x2d)\n",
    "\n",
    "# print(Mag_2d(x2d))\n",
    "# print(E_2d(x2d,J))"
   ]
  },
  {
   "cell_type": "code",
   "execution_count": null,
   "metadata": {},
   "outputs": [],
   "source": [
    "def metropolis2d(x2d,kbt=1,J=1):\n",
    "    N = np.shape(x2d)[0]\n",
    "    row = np.random.randint(N)\n",
    "    col = np.random.randint(N)\n",
    "    initial = 0 \n",
    "    trial = 0\n",
    "\n",
    "    #initial energy calculated\n",
    "    if row != N-1:\n",
    "        initial += -J*x2d[row,col]*x2d[row+1,col]\n",
    "    if row != 0:\n",
    "        initial += -J*x2d[row,col]*x2d[row-1,col]\n",
    "    if col != N-1:\n",
    "        initial += -J*x2d[row,col]*x2d[row,col+1]\n",
    "    if col != 0:\n",
    "        initial += -J*x2d[row,col]*x2d[row,col-1]\n",
    "\n",
    "    #flip the spins\n",
    "    if x2d[row,col] == 1:\n",
    "        x2d[row,col] = -1\n",
    "    else:\n",
    "        x2d[row,col] = 1\n",
    "\n",
    "    #trial energy calculated\n",
    "    if row != N-1:\n",
    "        trial += -J*x2d[row,col]*x2d[row+1,col]\n",
    "    if row != 0:\n",
    "        trial += -J*x2d[row,col]*x2d[row-1,col]\n",
    "    if col != N-1:\n",
    "        trial += -J*x2d[row,col]*x2d[row,col+1]\n",
    "    if col != 0:\n",
    "        trial += -J*x2d[row,col]*x2d[row,col-1]\n",
    "\n",
    "    #calculate energy difference\n",
    "    delta = trial - initial\n",
    "\n",
    "    #if delta is less than or equals to zero, accept trial\n",
    "    if delta <= 0: \n",
    "        return x2d\n",
    "    else:\n",
    "        #generate a random number between 0 and 1. \n",
    "        prob = np.exp(-(delta/kbt))\n",
    "        #if number is less than exp(delta/kbt), accept trial.\n",
    "        if prob >= np.random.random():\n",
    "            return x2d\n",
    "        else:\n",
    "            #else flip back and trial is rejected\n",
    "            if x2d[row,col] == 1:\n",
    "                x2d[row,col] = -1\n",
    "            else:\n",
    "                x2d[row,col] = 1\n",
    "            return x2d\n"
   ]
  },
  {
   "cell_type": "code",
   "execution_count": null,
   "metadata": {},
   "outputs": [],
   "source": [
    "#visualisation\n",
    "\n",
    "fig, ax = plt.subplots()\n",
    "x2dcopy = x2d.copy()\n",
    "cmap = colors.ListedColormap(['black','white'])\n",
    "bounds=[-1,0,1]\n",
    "norm = colors.BoundaryNorm(bounds, cmap.N)\n",
    "\n",
    "img = plt.imshow(x2dcopy,interpolation='nearest',\n",
    "                    cmap = cmap,norm=norm)\n",
    "plt.colorbar(img,cmap=cmap,\n",
    "                norm=norm,boundaries=bounds,ticks=[-1,1])\n",
    "plt.show()"
   ]
  },
  {
   "cell_type": "code",
   "execution_count": null,
   "metadata": {},
   "outputs": [],
   "source": [
    "#animation\n",
    "\n",
    "fig, ax = plt.subplots()\n",
    "\n",
    "cmap = colors.ListedColormap(['black','white'])\n",
    "bounds=[-1,0,1]\n",
    "norm = colors.BoundaryNorm(bounds, cmap.N)\n",
    "mymap = plt.imshow(x2d,interpolation='nearest',cmap=cmap,norm=norm)\n",
    "plt.colorbar(mymap,cmap=cmap,norm=norm,boundaries=bounds,ticks=[-1,1])\n",
    "energy_text = ax.text(.0,1.05, \"Energy = {}\".format(E_2d(x2d,J)), transform=ax.transAxes)\n",
    "time_text = ax.text(.0,1.1, \"Frames passed = {}\".format(0), transform=ax.transAxes)\n",
    "mag_text = ax.text(.65,1.1, \"Magnetisation = {}\".format(Mag_2d(x2d)), transform=ax.transAxes)\n",
    "# plt.show()\n",
    "\n",
    "def init():  # only required for blitting to give a clean slate.\n",
    "    mymap.set_array(x2d)\n",
    "    return mymap\n",
    "\n",
    "def animate(i):\n",
    "    metropolis2d(x2d,kbt,J)\n",
    "    mymap.set_array(x2d)\n",
    "    energy_text.set_text(\"Energy = {}\".format(E_2d(x2d,J)))\n",
    "    time_text.set_text(\"Frames passed = {}\".format(i))\n",
    "    mag_text.set_text(\"Magnetisation = {}\".format(Mag_2d(x2d)))\n",
    "    return mymap\n",
    "\n",
    "ani = animation.FuncAnimation(\n",
    "    fig, animate, init_func=init, frames = 100, interval=1, blit=True, save_count=50, repeat = False)"
   ]
  },
  {
   "cell_type": "code",
   "execution_count": null,
   "metadata": {},
   "outputs": [],
   "source": [
    "#Simulate the model for a certain length of time\n",
    "for i in range(10*N*N):\n",
    "    metropolis2d(x2d,kbt,J)"
   ]
  },
  {
   "cell_type": "markdown",
   "metadata": {},
   "source": [
    "#### Appendix\n",
    "\n",
    "Completed codes:\n",
    "* Create a 1d model\n",
    "* Create a 1d Metropolis algorithm\n",
    "* Create a way to visualise the 1d model\n",
    "* Create a way to animate the 1d model\n",
    "* Create a 2d model\n",
    "* Create a 2d Metropolis algorithm\n",
    "* Create a way to visualise the 2d model\n",
    "* Create a way to animate the 2d model\n",
    "\n",
    "on-going code development:  \n",
    "for 2d model:\n",
    "* Create a graph of energy, magnetisation and heat capacity against temperature for certain sizes of the system. \n",
    "* Run the simulation multiple times and take the average of the results to reduce statistical fluctuations.\n",
    "* Determine the critical temperature using the simulation  \n",
    "\n",
    "planned developments:\n",
    "for 3d model:\n",
    "* Create a 3d model\n",
    "* Create a 3d Metropolis algorithm\n",
    "* Create a way to visualise the 2d model\n",
    "* Create a way to animate the 2d model\n",
    "* Create a graph of energy, magnetization and heat capacity against temperature for certain sizes of the system. \n",
    "* Run the simulation multiple times and take the average of the results to reduce statistical fluctuations.\n",
    "* Determine the critical temperature using the simulation "
   ]
  },
  {
   "cell_type": "markdown",
   "metadata": {},
   "source": [
    "##### References\n",
    "\n",
    "Landau RH, José Páez Mejía Manuel, Bordeianu CC. Computational physics: problem solving with Python. Weinheim: Wiley-VCH.; 2015."
   ]
  }
 ],
 "metadata": {
  "kernelspec": {
   "display_name": "Python 3",
   "language": "python",
   "name": "python3"
  },
  "language_info": {
   "codemirror_mode": {
    "name": "ipython",
    "version": 3
   },
   "file_extension": ".py",
   "mimetype": "text/x-python",
   "name": "python",
   "nbconvert_exporter": "python",
   "pygments_lexer": "ipython3",
   "version": "3.7.3"
  }
 },
 "nbformat": 4,
 "nbformat_minor": 2
}
